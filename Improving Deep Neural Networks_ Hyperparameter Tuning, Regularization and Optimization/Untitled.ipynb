{
 "cells": [
  {
   "cell_type": "code",
   "execution_count": 1,
   "metadata": {},
   "outputs": [
    {
     "name": "stdout",
     "output_type": "stream",
     "text": [
      "/home/jovyan/work\r\n"
     ]
    }
   ],
   "source": [
    "!pwd"
   ]
  },
  {
   "cell_type": "code",
   "execution_count": 3,
   "metadata": {},
   "outputs": [
    {
     "name": "stdout",
     "output_type": "stream",
     "text": [
      "./\n",
      "./.readonly\n",
      "./week6/\n",
      "./week6/Optimization_methods_v1b.ipynb\n",
      "./week6/opt_utils.py\n",
      "./week6/.ipynb_checkpoints/\n",
      "./week6/.ipynb_checkpoints/Optimization methods-checkpoint.ipynb\n",
      "./week6/.ipynb_checkpoints/Optimization_methods_v1b-checkpoint.ipynb\n",
      "./week6/testCases.py\n",
      "./week6/images/\n",
      "./week6/images/opt1.gif\n",
      "./week6/images/cost.jpg\n",
      "./week6/images/kiank_partition.png\n",
      "./week6/images/kiank_sgd.png\n",
      "./week6/images/opt2.gif\n",
      "./week6/images/Momentum.png\n",
      "./week6/images/kiank_shuffle.png\n",
      "./week6/images/opt_momentum.png\n",
      "./week6/images/kiank_minibatch.png\n",
      "./week6/opt_utils_v1a.py\n",
      "./week6/datasets/\n",
      "./week6/datasets/data.mat\n",
      "./week6/__pycache__/\n",
      "./week6/__pycache__/testCases.cpython-36.pyc\n",
      "./week6/__pycache__/opt_utils.cpython-36.pyc\n",
      "./week6/__pycache__/opt_utils_v1a.cpython-36.pyc\n",
      "./week6/Optimization methods.ipynb\n",
      "./.hidden\n",
      "./.ipynb_checkpoints/\n",
      "./.ipynb_checkpoints/Untitled-checkpoint.ipynb\n",
      "./week5/\n",
      "./week5/Regularization/\n",
      "./week5/Regularization/Regularization.ipynb\n",
      "./week5/Regularization/Regularization_v2a.ipynb\n",
      "./week5/Regularization/.ipynb_checkpoints/\n",
      "./week5/Regularization/.ipynb_checkpoints/Regularization - v2-checkpoint.ipynb\n",
      "./week5/Regularization/.ipynb_checkpoints/Regularization-checkpoint.ipynb\n",
      "./week5/Regularization/.ipynb_checkpoints/Regularization_v2a-checkpoint.ipynb\n",
      "./week5/Regularization/testCases.py\n",
      "./week5/Regularization/images/\n",
      "./week5/Regularization/images/field_kiank.png\n",
      "./week5/Regularization/images/dropout1_kiank.mp4\n",
      "./week5/Regularization/images/dropout2_kiank.mp4\n",
      "./week5/Regularization/datasets/\n",
      "./week5/Regularization/datasets/data.mat\n",
      "./week5/Regularization/datasets/train_catvnoncat.h5\n",
      "./week5/Regularization/datasets/test_catvnoncat.h5\n",
      "./week5/Regularization/__pycache__/\n",
      "./week5/Regularization/__pycache__/testCases.cpython-36.pyc\n",
      "./week5/Regularization/__pycache__/reg_utils.cpython-36.pyc\n",
      "./week5/Regularization/Regularization - v2.ipynb\n",
      "./week5/Regularization/reg_utils.py\n",
      "./week5/Initialization/\n",
      "./week5/Initialization/Initialization.ipynb\n",
      "./week5/Initialization/.ipynb_checkpoints/\n",
      "./week5/Initialization/.ipynb_checkpoints/Initialization-checkpoint.ipynb\n",
      "./week5/Initialization/__pycache__/\n",
      "./week5/Initialization/__pycache__/init_utils.cpython-36.pyc\n",
      "./week5/Initialization/init_utils.py\n",
      "./week5/Gradient Checking/\n",
      "./week5/Gradient Checking/.ipynb_checkpoints/\n",
      "./week5/Gradient Checking/.ipynb_checkpoints/Gradient Checking v1-checkpoint.ipynb\n",
      "./week5/Gradient Checking/testCases.py\n",
      "./week5/Gradient Checking/images/\n",
      "./week5/Gradient Checking/images/handforward_kiank.png\n",
      "./week5/Gradient Checking/images/NDgrad_kiank.png\n",
      "./week5/Gradient Checking/images/handbackward_kiank.png\n",
      "./week5/Gradient Checking/images/dictionary_to_vector.png\n",
      "./week5/Gradient Checking/images/1Dgrad_kiank.png\n",
      "./week5/Gradient Checking/Gradient Checking v1.ipynb\n",
      "./week5/Gradient Checking/gc_utils.py\n",
      "./week5/Gradient Checking/__pycache__/\n",
      "./week5/Gradient Checking/__pycache__/testCases.cpython-36.pyc\n",
      "./week5/Gradient Checking/__pycache__/gc_utils.cpython-36.pyc\n",
      "./Untitled.ipynb\n",
      "./week7/\n",
      "./week7/TensorFlow_Tutorial_v3b.ipynb\n",
      "./week7/Tensorflow Tutorial v3.ipynb\n",
      "./week7/improv_utils.py\n",
      "./week7/.ipynb_checkpoints/\n",
      "./week7/.ipynb_checkpoints/Tensorflow Tutorial v2-checkpoint.ipynb\n",
      "./week7/.ipynb_checkpoints/Tensorflow Tutorial v3a-checkpoint.ipynb\n",
      "./week7/.ipynb_checkpoints/Tensorflow Tutorial v3-checkpoint.ipynb\n",
      "./week7/.ipynb_checkpoints/TensorFlow_Tutorial_v3b-checkpoint.ipynb\n",
      "./week7/.ipynb_checkpoints/Tensorflow Tutorial v1-checkpoint.ipynb\n",
      "./week7/images/\n",
      "./week7/images/onehot.png\n",
      "./week7/images/thumbs_up.jpg\n",
      "./week7/images/hands.png\n",
      "./week7/Tensorflow Tutorial v1.ipynb\n",
      "./week7/tf_utils.py\n",
      "./week7/Tensorflow Tutorial v3a.ipynb\n",
      "./week7/datasets/\n",
      "./week7/datasets/train_signs.h5\n",
      "./week7/datasets/test_signs.h5\n",
      "./week7/__pycache__/\n",
      "./week7/__pycache__/improv_utils.cpython-36.pyc\n",
      "./week7/__pycache__/tf_utils.cpython-36.pyc\n",
      "./week7/Tensorflow Tutorial v2.ipynb\n",
      "./course2.tar.gz\n",
      "tar: ./course2.tar.gz: file changed as we read it\n"
     ]
    }
   ],
   "source": [
    "!tar -czvf course2.tar.gz ."
   ]
  },
  {
   "cell_type": "code",
   "execution_count": null,
   "metadata": {
    "collapsed": true
   },
   "outputs": [],
   "source": []
  }
 ],
 "metadata": {
  "kernelspec": {
   "display_name": "Python 3",
   "language": "python",
   "name": "python3"
  },
  "language_info": {
   "codemirror_mode": {
    "name": "ipython",
    "version": 3
   },
   "file_extension": ".py",
   "mimetype": "text/x-python",
   "name": "python",
   "nbconvert_exporter": "python",
   "pygments_lexer": "ipython3",
   "version": "3.6.0"
  }
 },
 "nbformat": 4,
 "nbformat_minor": 2
}
